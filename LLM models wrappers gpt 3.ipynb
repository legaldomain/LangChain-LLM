{
 "cells": [
  {
   "cell_type": "markdown",
   "id": "f4e82bfa",
   "metadata": {},
   "source": [
    "simple LLM models, Chats and embedding models"
   ]
  },
  {
   "cell_type": "markdown",
   "id": "2555fd41",
   "metadata": {},
   "source": [
    "#  SIMPLE LLM Models"
   ]
  },
  {
   "cell_type": "code",
   "execution_count": null,
   "id": "4f16a957",
   "metadata": {},
   "outputs": [],
   "source": [
    "#input : string & output : string\n",
    "\n",
    "#from langchain.llms import OpenAI\n",
    "from langchain_openai import OpenAI\n",
    "llm = OpenAI(model_name = 'text-davinci-003', temperature = 0.7, max_token = 512)\n",
    "print(llm)"
   ]
  }
 ],
 "metadata": {
  "kernelspec": {
   "display_name": "Python 3 (ipykernel)",
   "language": "python",
   "name": "python3"
  },
  "language_info": {
   "codemirror_mode": {
    "name": "ipython",
    "version": 3
   },
   "file_extension": ".py",
   "mimetype": "text/x-python",
   "name": "python",
   "nbconvert_exporter": "python",
   "pygments_lexer": "ipython3",
   "version": "3.10.9"
  }
 },
 "nbformat": 4,
 "nbformat_minor": 5
}
